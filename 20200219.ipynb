{
 "cells": [
  {
   "cell_type": "code",
   "execution_count": 1,
   "metadata": {},
   "outputs": [],
   "source": [
    "import numpy as np\n",
    "import pandas as pd"
   ]
  },
  {
   "cell_type": "code",
   "execution_count": 2,
   "metadata": {},
   "outputs": [],
   "source": [
    "data = pd.read_csv('usedCar_Dataset_0206.csv')"
   ]
  },
  {
   "cell_type": "markdown",
   "metadata": {},
   "source": [
    "-----------------------------------------------------"
   ]
  },
  {
   "cell_type": "code",
   "execution_count": 3,
   "metadata": {},
   "outputs": [
    {
     "data": {
      "text/plain": [
       "(2375350, 30)"
      ]
     },
     "execution_count": 3,
     "metadata": {},
     "output_type": "execute_result"
    }
   ],
   "source": [
    "data.shape"
   ]
  },
  {
   "cell_type": "code",
   "execution_count": 4,
   "metadata": {},
   "outputs": [
    {
     "data": {
      "text/plain": [
       "Index(['CarID', 'MakeId', 'Title', 'Year', 'Make', 'Model', 'Trim',\n",
       "       'BodyStyle', 'Rental', 'Location', 'GasMileage_city',\n",
       "       'GasMileage_highway', 'Price', 'Mileage', 'Transmission', 'FuelType',\n",
       "       'ExteriorColor', 'InteriorColor', 'DoorsNum', 'MaximumSeating',\n",
       "       'Engine', 'Drivetrain', 'VIN', 'OptionCount', 'MajorOptions',\n",
       "       'Certified', 'Accident Check', 'OwnershipHistory', 'SellingDays',\n",
       "       'OriginPrice'],\n",
       "      dtype='object')"
      ]
     },
     "execution_count": 4,
     "metadata": {},
     "output_type": "execute_result"
    }
   ],
   "source": [
    "data.columns"
   ]
  },
  {
   "cell_type": "code",
   "execution_count": 6,
   "metadata": {},
   "outputs": [
    {
     "data": {
      "text/html": [
       "<div>\n",
       "<style scoped>\n",
       "    .dataframe tbody tr th:only-of-type {\n",
       "        vertical-align: middle;\n",
       "    }\n",
       "\n",
       "    .dataframe tbody tr th {\n",
       "        vertical-align: top;\n",
       "    }\n",
       "\n",
       "    .dataframe thead th {\n",
       "        text-align: right;\n",
       "    }\n",
       "</style>\n",
       "<table border=\"1\" class=\"dataframe\">\n",
       "  <thead>\n",
       "    <tr style=\"text-align: right;\">\n",
       "      <th></th>\n",
       "      <th>CarID</th>\n",
       "      <th>MakeId</th>\n",
       "      <th>Title</th>\n",
       "      <th>Year</th>\n",
       "      <th>Make</th>\n",
       "      <th>Model</th>\n",
       "      <th>Trim</th>\n",
       "      <th>BodyStyle</th>\n",
       "      <th>Rental</th>\n",
       "      <th>Location</th>\n",
       "      <th>...</th>\n",
       "      <th>Engine</th>\n",
       "      <th>Drivetrain</th>\n",
       "      <th>VIN</th>\n",
       "      <th>OptionCount</th>\n",
       "      <th>MajorOptions</th>\n",
       "      <th>Certified</th>\n",
       "      <th>Accident Check</th>\n",
       "      <th>OwnershipHistory</th>\n",
       "      <th>SellingDays</th>\n",
       "      <th>OriginPrice</th>\n",
       "    </tr>\n",
       "  </thead>\n",
       "  <tbody>\n",
       "    <tr>\n",
       "      <th>0</th>\n",
       "      <td>100351603</td>\n",
       "      <td>m1</td>\n",
       "      <td>2007 Chevrolet Tahoe - $11,999</td>\n",
       "      <td>2007</td>\n",
       "      <td>Chevrolet</td>\n",
       "      <td>Tahoe</td>\n",
       "      <td>NaN</td>\n",
       "      <td>suv</td>\n",
       "      <td>NaN</td>\n",
       "      <td>Garland, TX</td>\n",
       "      <td>...</td>\n",
       "      <td>V8</td>\n",
       "      <td>NaN</td>\n",
       "      <td>1GNFC13J47R120389</td>\n",
       "      <td>0</td>\n",
       "      <td>NaN</td>\n",
       "      <td>NaN</td>\n",
       "      <td>0.0</td>\n",
       "      <td>2.0</td>\n",
       "      <td>1873</td>\n",
       "      <td>12999.0</td>\n",
       "    </tr>\n",
       "    <tr>\n",
       "      <th>1</th>\n",
       "      <td>101113873</td>\n",
       "      <td>m1</td>\n",
       "      <td>2005 Chevrolet Express - $11,995</td>\n",
       "      <td>2005</td>\n",
       "      <td>Chevrolet</td>\n",
       "      <td>Express</td>\n",
       "      <td>NaN</td>\n",
       "      <td>van</td>\n",
       "      <td>NaN</td>\n",
       "      <td>Claremont, NH</td>\n",
       "      <td>...</td>\n",
       "      <td>NaN</td>\n",
       "      <td>NaN</td>\n",
       "      <td>1GBJG31U251136588</td>\n",
       "      <td>0</td>\n",
       "      <td>NaN</td>\n",
       "      <td>NaN</td>\n",
       "      <td>1.0</td>\n",
       "      <td>1.0</td>\n",
       "      <td>1863</td>\n",
       "      <td>NaN</td>\n",
       "    </tr>\n",
       "    <tr>\n",
       "      <th>2</th>\n",
       "      <td>102996725</td>\n",
       "      <td>m1</td>\n",
       "      <td>2010 Chevrolet Silverado 2500HD Work Truck Ext...</td>\n",
       "      <td>2010</td>\n",
       "      <td>Chevrolet</td>\n",
       "      <td>Silverado 2500HD</td>\n",
       "      <td>Work Truck Extended Cab LB 4WD</td>\n",
       "      <td>pickup_truck</td>\n",
       "      <td>NaN</td>\n",
       "      <td>Frankfort, KY</td>\n",
       "      <td>...</td>\n",
       "      <td>V8</td>\n",
       "      <td>Four-Wheel Drive</td>\n",
       "      <td>1GC5KVBG7AZ218246</td>\n",
       "      <td>2</td>\n",
       "      <td>Steel Wheels,Tow Package</td>\n",
       "      <td>NaN</td>\n",
       "      <td>0.0</td>\n",
       "      <td>2.0</td>\n",
       "      <td>1837</td>\n",
       "      <td>16900.0</td>\n",
       "    </tr>\n",
       "    <tr>\n",
       "      <th>3</th>\n",
       "      <td>103384798</td>\n",
       "      <td>m1</td>\n",
       "      <td>2014 Chevrolet Corvette Stingray 3LT Coupe RWD...</td>\n",
       "      <td>2014</td>\n",
       "      <td>Chevrolet</td>\n",
       "      <td>Corvette</td>\n",
       "      <td>Stingray 3LT Coupe RWD</td>\n",
       "      <td>coupe</td>\n",
       "      <td>NaN</td>\n",
       "      <td>Lewistown, MT</td>\n",
       "      <td>...</td>\n",
       "      <td>V8</td>\n",
       "      <td>Rear-Wheel Drive</td>\n",
       "      <td>1G1YE2D73E5104797</td>\n",
       "      <td>5</td>\n",
       "      <td>Bluetooth,Backup Camera,Aluminum Wheels,Naviga...</td>\n",
       "      <td>NaN</td>\n",
       "      <td>0.0</td>\n",
       "      <td>1.0</td>\n",
       "      <td>1832</td>\n",
       "      <td>62900.0</td>\n",
       "    </tr>\n",
       "    <tr>\n",
       "      <th>4</th>\n",
       "      <td>104800849</td>\n",
       "      <td>m1</td>\n",
       "      <td>2002 Chevrolet Monte Carlo SS FWD - $3,440</td>\n",
       "      <td>2002</td>\n",
       "      <td>Chevrolet</td>\n",
       "      <td>Monte Carlo</td>\n",
       "      <td>SS FWD</td>\n",
       "      <td>coupe</td>\n",
       "      <td>NaN</td>\n",
       "      <td>Delavan, IL</td>\n",
       "      <td>...</td>\n",
       "      <td>V6</td>\n",
       "      <td>Front-Wheel Drive</td>\n",
       "      <td>2G1WX15K829249749</td>\n",
       "      <td>2</td>\n",
       "      <td>Leather Seats,Aluminum Wheels</td>\n",
       "      <td>NaN</td>\n",
       "      <td>0.0</td>\n",
       "      <td>2.0</td>\n",
       "      <td>1809</td>\n",
       "      <td>4800.0</td>\n",
       "    </tr>\n",
       "  </tbody>\n",
       "</table>\n",
       "<p>5 rows × 30 columns</p>\n",
       "</div>"
      ],
      "text/plain": [
       "       CarID MakeId                                              Title  Year  \\\n",
       "0  100351603     m1                     2007 Chevrolet Tahoe - $11,999  2007   \n",
       "1  101113873     m1                   2005 Chevrolet Express - $11,995  2005   \n",
       "2  102996725     m1  2010 Chevrolet Silverado 2500HD Work Truck Ext...  2010   \n",
       "3  103384798     m1  2014 Chevrolet Corvette Stingray 3LT Coupe RWD...  2014   \n",
       "4  104800849     m1         2002 Chevrolet Monte Carlo SS FWD - $3,440  2002   \n",
       "\n",
       "        Make             Model                            Trim     BodyStyle  \\\n",
       "0  Chevrolet             Tahoe                             NaN           suv   \n",
       "1  Chevrolet           Express                             NaN           van   \n",
       "2  Chevrolet  Silverado 2500HD  Work Truck Extended Cab LB 4WD  pickup_truck   \n",
       "3  Chevrolet          Corvette          Stingray 3LT Coupe RWD         coupe   \n",
       "4  Chevrolet       Monte Carlo                          SS FWD         coupe   \n",
       "\n",
       "  Rental       Location  ... Engine         Drivetrain                VIN  \\\n",
       "0    NaN    Garland, TX  ...     V8                NaN  1GNFC13J47R120389   \n",
       "1    NaN  Claremont, NH  ...    NaN                NaN  1GBJG31U251136588   \n",
       "2    NaN  Frankfort, KY  ...     V8   Four-Wheel Drive  1GC5KVBG7AZ218246   \n",
       "3    NaN  Lewistown, MT  ...     V8   Rear-Wheel Drive  1G1YE2D73E5104797   \n",
       "4    NaN    Delavan, IL  ...     V6  Front-Wheel Drive  2G1WX15K829249749   \n",
       "\n",
       "   OptionCount                                       MajorOptions Certified  \\\n",
       "0            0                                                NaN       NaN   \n",
       "1            0                                                NaN       NaN   \n",
       "2            2                           Steel Wheels,Tow Package       NaN   \n",
       "3            5  Bluetooth,Backup Camera,Aluminum Wheels,Naviga...       NaN   \n",
       "4            2                      Leather Seats,Aluminum Wheels       NaN   \n",
       "\n",
       "  Accident Check OwnershipHistory SellingDays OriginPrice  \n",
       "0            0.0              2.0        1873     12999.0  \n",
       "1            1.0              1.0        1863         NaN  \n",
       "2            0.0              2.0        1837     16900.0  \n",
       "3            0.0              1.0        1832     62900.0  \n",
       "4            0.0              2.0        1809      4800.0  \n",
       "\n",
       "[5 rows x 30 columns]"
      ]
     },
     "execution_count": 6,
     "metadata": {},
     "output_type": "execute_result"
    }
   ],
   "source": [
    "data.head(5)"
   ]
  },
  {
   "cell_type": "code",
   "execution_count": 9,
   "metadata": {},
   "outputs": [
    {
     "data": {
      "text/plain": [
       "MakeId\n",
       "m2      329590\n",
       "m1      293079\n",
       "m7      192976\n",
       "m12     167186\n",
       "m32     138695\n",
       "m6      122921\n",
       "m24     106549\n",
       "m26      99698\n",
       "m28      96737\n",
       "m3       78226\n",
       "m191     76643\n",
       "m43      72802\n",
       "m33      68444\n",
       "m55      58642\n",
       "m37      49712\n",
       "m53      48757\n",
       "m19      40281\n",
       "m23      38940\n",
       "m22      37894\n",
       "m21      35364\n",
       "m42      32988\n",
       "m84      28800\n",
       "m4       24941\n",
       "m38      21555\n",
       "m48      15158\n",
       "m35      14283\n",
       "m46      13522\n",
       "m56      13177\n",
       "m45      10680\n",
       "m31       6989\n",
       "m47       6474\n",
       "m52       4682\n",
       "m98       4135\n",
       "m44       3307\n",
       "m51       3205\n",
       "m40       2774\n",
       "m27       2110\n",
       "m25       1870\n",
       "m20       1596\n",
       "m124      1249\n",
       "m203      1146\n",
       "m112      1144\n",
       "m54        917\n",
       "m50        872\n",
       "m85        799\n",
       "m34        691\n",
       "m110       639\n",
       "m49        629\n",
       "m111       610\n",
       "m141       483\n",
       "m87        405\n",
       "m30        249\n",
       "m135        94\n",
       "m194        40\n",
       "m79          1\n",
       "dtype: int64"
      ]
     },
     "execution_count": 9,
     "metadata": {},
     "output_type": "execute_result"
    }
   ],
   "source": [
    "data.groupby(by='MakeId').size().sort_values(ascending=False)"
   ]
  },
  {
   "cell_type": "code",
   "execution_count": null,
   "metadata": {},
   "outputs": [],
   "source": []
  },
  {
   "cell_type": "markdown",
   "metadata": {},
   "source": [
    "---------------------------------------------------------------------------"
   ]
  },
  {
   "cell_type": "code",
   "execution_count": 61,
   "metadata": {},
   "outputs": [],
   "source": [
    "car_m111 = data[data['MakeId'] == 'm111']"
   ]
  },
  {
   "cell_type": "code",
   "execution_count": 62,
   "metadata": {},
   "outputs": [
    {
     "data": {
      "text/plain": [
       "(610, 30)"
      ]
     },
     "execution_count": 62,
     "metadata": {},
     "output_type": "execute_result"
    }
   ],
   "source": [
    "car_m111.shape"
   ]
  },
  {
   "cell_type": "code",
   "execution_count": 63,
   "metadata": {},
   "outputs": [],
   "source": [
    "car_m111 = car_m111.dropna(subset=['Price', 'Mileage', 'Accident Check', 'OwnershipHistory'])"
   ]
  },
  {
   "cell_type": "code",
   "execution_count": 64,
   "metadata": {},
   "outputs": [
    {
     "data": {
      "text/plain": [
       "(563, 30)"
      ]
     },
     "execution_count": 64,
     "metadata": {},
     "output_type": "execute_result"
    }
   ],
   "source": [
    "car_m111.shape"
   ]
  },
  {
   "cell_type": "code",
   "execution_count": 65,
   "metadata": {},
   "outputs": [
    {
     "data": {
      "text/plain": [
       "CarID                   int64\n",
       "MakeId                 object\n",
       "Title                  object\n",
       "Year                    int64\n",
       "Make                   object\n",
       "Model                  object\n",
       "Trim                   object\n",
       "BodyStyle              object\n",
       "Rental                 object\n",
       "Location               object\n",
       "GasMileage_city        object\n",
       "GasMileage_highway     object\n",
       "Price                 float64\n",
       "Mileage               float64\n",
       "Transmission           object\n",
       "FuelType               object\n",
       "ExteriorColor          object\n",
       "InteriorColor          object\n",
       "DoorsNum               object\n",
       "MaximumSeating         object\n",
       "Engine                 object\n",
       "Drivetrain             object\n",
       "VIN                    object\n",
       "OptionCount             int64\n",
       "MajorOptions           object\n",
       "Certified              object\n",
       "Accident Check        float64\n",
       "OwnershipHistory      float64\n",
       "SellingDays             int64\n",
       "OriginPrice           float64\n",
       "dtype: object"
      ]
     },
     "execution_count": 65,
     "metadata": {},
     "output_type": "execute_result"
    }
   ],
   "source": [
    "car_m111.dtypes"
   ]
  },
  {
   "cell_type": "code",
   "execution_count": 66,
   "metadata": {},
   "outputs": [],
   "source": [
    "train_data = car_m111.iloc[:,[3,12,13,23,26,27,28,29]]"
   ]
  },
  {
   "cell_type": "code",
   "execution_count": 67,
   "metadata": {},
   "outputs": [
    {
     "data": {
      "text/plain": [
       "Year                  0\n",
       "Price                 0\n",
       "Mileage               0\n",
       "OptionCount           0\n",
       "Accident Check        0\n",
       "OwnershipHistory      0\n",
       "SellingDays           0\n",
       "OriginPrice         318\n",
       "dtype: int64"
      ]
     },
     "execution_count": 67,
     "metadata": {},
     "output_type": "execute_result"
    }
   ],
   "source": [
    "train_data.isnull().sum()"
   ]
  },
  {
   "cell_type": "code",
   "execution_count": 68,
   "metadata": {},
   "outputs": [
    {
     "data": {
      "text/plain": [
       "(563, 8)"
      ]
     },
     "execution_count": 68,
     "metadata": {},
     "output_type": "execute_result"
    }
   ],
   "source": [
    "train_data.shape"
   ]
  },
  {
   "cell_type": "code",
   "execution_count": 69,
   "metadata": {},
   "outputs": [],
   "source": [
    "train_data = train_data.drop(columns=['OriginPrice'])"
   ]
  },
  {
   "cell_type": "code",
   "execution_count": 70,
   "metadata": {},
   "outputs": [
    {
     "data": {
      "text/plain": [
       "(563, 7)"
      ]
     },
     "execution_count": 70,
     "metadata": {},
     "output_type": "execute_result"
    }
   ],
   "source": [
    "train_data.shape"
   ]
  },
  {
   "cell_type": "code",
   "execution_count": 71,
   "metadata": {},
   "outputs": [
    {
     "data": {
      "text/plain": [
       "Year                0\n",
       "Price               0\n",
       "Mileage             0\n",
       "OptionCount         0\n",
       "Accident Check      0\n",
       "OwnershipHistory    0\n",
       "SellingDays         0\n",
       "dtype: int64"
      ]
     },
     "execution_count": 71,
     "metadata": {},
     "output_type": "execute_result"
    }
   ],
   "source": [
    "train_data.isnull().sum()"
   ]
  },
  {
   "cell_type": "code",
   "execution_count": null,
   "metadata": {},
   "outputs": [],
   "source": []
  },
  {
   "cell_type": "code",
   "execution_count": 72,
   "metadata": {},
   "outputs": [
    {
     "data": {
      "text/html": [
       "<div>\n",
       "<style scoped>\n",
       "    .dataframe tbody tr th:only-of-type {\n",
       "        vertical-align: middle;\n",
       "    }\n",
       "\n",
       "    .dataframe tbody tr th {\n",
       "        vertical-align: top;\n",
       "    }\n",
       "\n",
       "    .dataframe thead th {\n",
       "        text-align: right;\n",
       "    }\n",
       "</style>\n",
       "<table border=\"1\" class=\"dataframe\">\n",
       "  <thead>\n",
       "    <tr style=\"text-align: right;\">\n",
       "      <th></th>\n",
       "      <th>Year</th>\n",
       "      <th>Price</th>\n",
       "      <th>Mileage</th>\n",
       "      <th>OptionCount</th>\n",
       "      <th>Accident Check</th>\n",
       "      <th>OwnershipHistory</th>\n",
       "      <th>SellingDays</th>\n",
       "    </tr>\n",
       "  </thead>\n",
       "  <tbody>\n",
       "    <tr>\n",
       "      <th>293718</th>\n",
       "      <td>2009</td>\n",
       "      <td>6999.0</td>\n",
       "      <td>46326.0</td>\n",
       "      <td>1</td>\n",
       "      <td>0.0</td>\n",
       "      <td>3.0</td>\n",
       "      <td>1395</td>\n",
       "    </tr>\n",
       "    <tr>\n",
       "      <th>293719</th>\n",
       "      <td>2009</td>\n",
       "      <td>6499.0</td>\n",
       "      <td>52273.0</td>\n",
       "      <td>1</td>\n",
       "      <td>0.0</td>\n",
       "      <td>3.0</td>\n",
       "      <td>1395</td>\n",
       "    </tr>\n",
       "    <tr>\n",
       "      <th>293720</th>\n",
       "      <td>2009</td>\n",
       "      <td>6499.0</td>\n",
       "      <td>50590.0</td>\n",
       "      <td>1</td>\n",
       "      <td>1.0</td>\n",
       "      <td>3.0</td>\n",
       "      <td>1395</td>\n",
       "    </tr>\n",
       "    <tr>\n",
       "      <th>293721</th>\n",
       "      <td>2009</td>\n",
       "      <td>6999.0</td>\n",
       "      <td>43284.0</td>\n",
       "      <td>1</td>\n",
       "      <td>0.0</td>\n",
       "      <td>3.0</td>\n",
       "      <td>1361</td>\n",
       "    </tr>\n",
       "    <tr>\n",
       "      <th>293722</th>\n",
       "      <td>2014</td>\n",
       "      <td>11950.0</td>\n",
       "      <td>62023.0</td>\n",
       "      <td>2</td>\n",
       "      <td>2.0</td>\n",
       "      <td>1.0</td>\n",
       "      <td>901</td>\n",
       "    </tr>\n",
       "  </tbody>\n",
       "</table>\n",
       "</div>"
      ],
      "text/plain": [
       "        Year    Price  Mileage  OptionCount  Accident Check  OwnershipHistory  \\\n",
       "293718  2009   6999.0  46326.0            1             0.0               3.0   \n",
       "293719  2009   6499.0  52273.0            1             0.0               3.0   \n",
       "293720  2009   6499.0  50590.0            1             1.0               3.0   \n",
       "293721  2009   6999.0  43284.0            1             0.0               3.0   \n",
       "293722  2014  11950.0  62023.0            2             2.0               1.0   \n",
       "\n",
       "        SellingDays  \n",
       "293718         1395  \n",
       "293719         1395  \n",
       "293720         1395  \n",
       "293721         1361  \n",
       "293722          901  "
      ]
     },
     "execution_count": 72,
     "metadata": {},
     "output_type": "execute_result"
    }
   ],
   "source": [
    "train_data.head(5)"
   ]
  },
  {
   "cell_type": "code",
   "execution_count": 73,
   "metadata": {},
   "outputs": [],
   "source": [
    "from sklearn.preprocessing import MinMaxScaler"
   ]
  },
  {
   "cell_type": "code",
   "execution_count": 74,
   "metadata": {},
   "outputs": [],
   "source": [
    "mms = MinMaxScaler()"
   ]
  },
  {
   "cell_type": "code",
   "execution_count": 75,
   "metadata": {},
   "outputs": [],
   "source": [
    "train_data.iloc[:,:] = mms.fit_transform(train_data.iloc[:,:])"
   ]
  },
  {
   "cell_type": "code",
   "execution_count": 77,
   "metadata": {},
   "outputs": [
    {
     "data": {
      "text/html": [
       "<div>\n",
       "<style scoped>\n",
       "    .dataframe tbody tr th:only-of-type {\n",
       "        vertical-align: middle;\n",
       "    }\n",
       "\n",
       "    .dataframe tbody tr th {\n",
       "        vertical-align: top;\n",
       "    }\n",
       "\n",
       "    .dataframe thead th {\n",
       "        text-align: right;\n",
       "    }\n",
       "</style>\n",
       "<table border=\"1\" class=\"dataframe\">\n",
       "  <thead>\n",
       "    <tr style=\"text-align: right;\">\n",
       "      <th></th>\n",
       "      <th>Year</th>\n",
       "      <th>Price</th>\n",
       "      <th>Mileage</th>\n",
       "      <th>OptionCount</th>\n",
       "      <th>Accident Check</th>\n",
       "      <th>OwnershipHistory</th>\n",
       "      <th>SellingDays</th>\n",
       "    </tr>\n",
       "  </thead>\n",
       "  <tbody>\n",
       "    <tr>\n",
       "      <th>293718</th>\n",
       "      <td>0.1</td>\n",
       "      <td>0.244936</td>\n",
       "      <td>0.223089</td>\n",
       "      <td>0.1</td>\n",
       "      <td>0.0</td>\n",
       "      <td>0.333333</td>\n",
       "      <td>1.000000</td>\n",
       "    </tr>\n",
       "    <tr>\n",
       "      <th>293719</th>\n",
       "      <td>0.1</td>\n",
       "      <td>0.218901</td>\n",
       "      <td>0.251828</td>\n",
       "      <td>0.1</td>\n",
       "      <td>0.0</td>\n",
       "      <td>0.333333</td>\n",
       "      <td>1.000000</td>\n",
       "    </tr>\n",
       "    <tr>\n",
       "      <th>293720</th>\n",
       "      <td>0.1</td>\n",
       "      <td>0.218901</td>\n",
       "      <td>0.243695</td>\n",
       "      <td>0.1</td>\n",
       "      <td>0.5</td>\n",
       "      <td>0.333333</td>\n",
       "      <td>1.000000</td>\n",
       "    </tr>\n",
       "    <tr>\n",
       "      <th>293721</th>\n",
       "      <td>0.1</td>\n",
       "      <td>0.244936</td>\n",
       "      <td>0.208388</td>\n",
       "      <td>0.1</td>\n",
       "      <td>0.0</td>\n",
       "      <td>0.333333</td>\n",
       "      <td>0.975627</td>\n",
       "    </tr>\n",
       "    <tr>\n",
       "      <th>293722</th>\n",
       "      <td>0.6</td>\n",
       "      <td>0.502734</td>\n",
       "      <td>0.298945</td>\n",
       "      <td>0.2</td>\n",
       "      <td>1.0</td>\n",
       "      <td>0.000000</td>\n",
       "      <td>0.645878</td>\n",
       "    </tr>\n",
       "  </tbody>\n",
       "</table>\n",
       "</div>"
      ],
      "text/plain": [
       "        Year     Price   Mileage  OptionCount  Accident Check  \\\n",
       "293718   0.1  0.244936  0.223089          0.1             0.0   \n",
       "293719   0.1  0.218901  0.251828          0.1             0.0   \n",
       "293720   0.1  0.218901  0.243695          0.1             0.5   \n",
       "293721   0.1  0.244936  0.208388          0.1             0.0   \n",
       "293722   0.6  0.502734  0.298945          0.2             1.0   \n",
       "\n",
       "        OwnershipHistory  SellingDays  \n",
       "293718          0.333333     1.000000  \n",
       "293719          0.333333     1.000000  \n",
       "293720          0.333333     1.000000  \n",
       "293721          0.333333     0.975627  \n",
       "293722          0.000000     0.645878  "
      ]
     },
     "execution_count": 77,
     "metadata": {},
     "output_type": "execute_result"
    }
   ],
   "source": [
    "train_data.head()"
   ]
  },
  {
   "cell_type": "code",
   "execution_count": 80,
   "metadata": {},
   "outputs": [
    {
     "data": {
      "text/plain": [
       "(563, 7)"
      ]
     },
     "execution_count": 80,
     "metadata": {},
     "output_type": "execute_result"
    }
   ],
   "source": [
    "train_data.shape"
   ]
  },
  {
   "cell_type": "markdown",
   "metadata": {},
   "source": [
    "----------------------------------------------------------------------------------------"
   ]
  },
  {
   "cell_type": "code",
   "execution_count": 81,
   "metadata": {},
   "outputs": [],
   "source": [
    "from sklearn.cluster import DBSCAN"
   ]
  },
  {
   "cell_type": "code",
   "execution_count": 100,
   "metadata": {},
   "outputs": [],
   "source": [
    "db = DBSCAN(eps=0.5,\n",
    "    min_samples=30,\n",
    "    metric='euclidean',\n",
    "    n_jobs=None)"
   ]
  },
  {
   "cell_type": "code",
   "execution_count": 101,
   "metadata": {},
   "outputs": [],
   "source": [
    "y_db = db.fit_predict(train_data)"
   ]
  },
  {
   "cell_type": "code",
   "execution_count": 102,
   "metadata": {},
   "outputs": [
    {
     "data": {
      "text/plain": [
       "array([-1,  0,  1], dtype=int64)"
      ]
     },
     "execution_count": 102,
     "metadata": {},
     "output_type": "execute_result"
    }
   ],
   "source": [
    "np.unique(y_db)"
   ]
  },
  {
   "cell_type": "code",
   "execution_count": 106,
   "metadata": {},
   "outputs": [],
   "source": [
    "y_cluster = y_db[y_db >= 0]"
   ]
  },
  {
   "cell_type": "code",
   "execution_count": 107,
   "metadata": {},
   "outputs": [
    {
     "data": {
      "text/plain": [
       "array([475,  71], dtype=int64)"
      ]
     },
     "execution_count": 107,
     "metadata": {},
     "output_type": "execute_result"
    }
   ],
   "source": [
    "np.bincount(y_cluster)"
   ]
  },
  {
   "cell_type": "code",
   "execution_count": null,
   "metadata": {},
   "outputs": [],
   "source": []
  },
  {
   "cell_type": "code",
   "execution_count": null,
   "metadata": {},
   "outputs": [],
   "source": []
  },
  {
   "cell_type": "markdown",
   "metadata": {},
   "source": [
    "------------------------------------------------------------------------------"
   ]
  },
  {
   "cell_type": "code",
   "execution_count": 108,
   "metadata": {},
   "outputs": [
    {
     "data": {
      "text/plain": [
       "(10680, 30)"
      ]
     },
     "execution_count": 108,
     "metadata": {},
     "output_type": "execute_result"
    }
   ],
   "source": [
    "car_m45 = data[data['MakeId'] == 'm45']\n",
    "car_m45.shape"
   ]
  },
  {
   "cell_type": "code",
   "execution_count": 109,
   "metadata": {},
   "outputs": [
    {
     "data": {
      "text/plain": [
       "(9633, 30)"
      ]
     },
     "execution_count": 109,
     "metadata": {},
     "output_type": "execute_result"
    }
   ],
   "source": [
    "car_m45 = car_m45.dropna(subset=['Price', 'Mileage', 'Accident Check', 'OwnershipHistory'])\n",
    "car_m45.shape"
   ]
  },
  {
   "cell_type": "code",
   "execution_count": 110,
   "metadata": {},
   "outputs": [],
   "source": [
    "train_data2 = car_m45.iloc[:,[3,12,13,23,26,27,28,29]]"
   ]
  },
  {
   "cell_type": "code",
   "execution_count": 111,
   "metadata": {},
   "outputs": [
    {
     "data": {
      "text/plain": [
       "Year                   0\n",
       "Price                  0\n",
       "Mileage                0\n",
       "OptionCount            0\n",
       "Accident Check         0\n",
       "OwnershipHistory       0\n",
       "SellingDays            0\n",
       "OriginPrice         4160\n",
       "dtype: int64"
      ]
     },
     "execution_count": 111,
     "metadata": {},
     "output_type": "execute_result"
    }
   ],
   "source": [
    "train_data2.isnull().sum()"
   ]
  },
  {
   "cell_type": "code",
   "execution_count": 112,
   "metadata": {},
   "outputs": [
    {
     "data": {
      "text/plain": [
       "(9633, 8)"
      ]
     },
     "execution_count": 112,
     "metadata": {},
     "output_type": "execute_result"
    }
   ],
   "source": [
    "train_data2.shape"
   ]
  },
  {
   "cell_type": "code",
   "execution_count": 113,
   "metadata": {},
   "outputs": [],
   "source": [
    "train_data2 = train_data2.drop(columns=['OriginPrice'])"
   ]
  },
  {
   "cell_type": "code",
   "execution_count": 114,
   "metadata": {},
   "outputs": [
    {
     "data": {
      "text/plain": [
       "Year                0\n",
       "Price               0\n",
       "Mileage             0\n",
       "OptionCount         0\n",
       "Accident Check      0\n",
       "OwnershipHistory    0\n",
       "SellingDays         0\n",
       "dtype: int64"
      ]
     },
     "execution_count": 114,
     "metadata": {},
     "output_type": "execute_result"
    }
   ],
   "source": [
    "train_data2.isnull().sum()"
   ]
  },
  {
   "cell_type": "code",
   "execution_count": 115,
   "metadata": {},
   "outputs": [
    {
     "data": {
      "text/plain": [
       "(9633, 7)"
      ]
     },
     "execution_count": 115,
     "metadata": {},
     "output_type": "execute_result"
    }
   ],
   "source": [
    "train_data2.shape"
   ]
  },
  {
   "cell_type": "code",
   "execution_count": null,
   "metadata": {},
   "outputs": [],
   "source": []
  },
  {
   "cell_type": "code",
   "execution_count": 128,
   "metadata": {},
   "outputs": [],
   "source": [
    "train_data2.iloc[:,:] = mms.fit_transform(train_data2.iloc[:,:])"
   ]
  },
  {
   "cell_type": "code",
   "execution_count": 129,
   "metadata": {},
   "outputs": [
    {
     "data": {
      "text/html": [
       "<div>\n",
       "<style scoped>\n",
       "    .dataframe tbody tr th:only-of-type {\n",
       "        vertical-align: middle;\n",
       "    }\n",
       "\n",
       "    .dataframe tbody tr th {\n",
       "        vertical-align: top;\n",
       "    }\n",
       "\n",
       "    .dataframe thead th {\n",
       "        text-align: right;\n",
       "    }\n",
       "</style>\n",
       "<table border=\"1\" class=\"dataframe\">\n",
       "  <thead>\n",
       "    <tr style=\"text-align: right;\">\n",
       "      <th></th>\n",
       "      <th>Year</th>\n",
       "      <th>Price</th>\n",
       "      <th>Mileage</th>\n",
       "      <th>OptionCount</th>\n",
       "      <th>Accident Check</th>\n",
       "      <th>OwnershipHistory</th>\n",
       "      <th>SellingDays</th>\n",
       "    </tr>\n",
       "  </thead>\n",
       "  <tbody>\n",
       "    <tr>\n",
       "      <th>1848599</th>\n",
       "      <td>0.444444</td>\n",
       "      <td>0.040342</td>\n",
       "      <td>0.433797</td>\n",
       "      <td>0.05</td>\n",
       "      <td>0.0</td>\n",
       "      <td>0.0</td>\n",
       "      <td>0.771326</td>\n",
       "    </tr>\n",
       "    <tr>\n",
       "      <th>1848600</th>\n",
       "      <td>0.277778</td>\n",
       "      <td>0.049399</td>\n",
       "      <td>0.249687</td>\n",
       "      <td>0.05</td>\n",
       "      <td>0.0</td>\n",
       "      <td>0.4</td>\n",
       "      <td>0.634658</td>\n",
       "    </tr>\n",
       "    <tr>\n",
       "      <th>1848601</th>\n",
       "      <td>0.333333</td>\n",
       "      <td>0.049423</td>\n",
       "      <td>0.115127</td>\n",
       "      <td>0.05</td>\n",
       "      <td>0.5</td>\n",
       "      <td>0.0</td>\n",
       "      <td>0.608307</td>\n",
       "    </tr>\n",
       "    <tr>\n",
       "      <th>1848602</th>\n",
       "      <td>0.000000</td>\n",
       "      <td>0.024699</td>\n",
       "      <td>0.604941</td>\n",
       "      <td>0.00</td>\n",
       "      <td>0.0</td>\n",
       "      <td>0.5</td>\n",
       "      <td>0.530147</td>\n",
       "    </tr>\n",
       "    <tr>\n",
       "      <th>1848604</th>\n",
       "      <td>0.055556</td>\n",
       "      <td>0.014820</td>\n",
       "      <td>0.444776</td>\n",
       "      <td>0.00</td>\n",
       "      <td>0.0</td>\n",
       "      <td>0.2</td>\n",
       "      <td>0.514962</td>\n",
       "    </tr>\n",
       "  </tbody>\n",
       "</table>\n",
       "</div>"
      ],
      "text/plain": [
       "             Year     Price   Mileage  OptionCount  Accident Check  \\\n",
       "1848599  0.444444  0.040342  0.433797         0.05             0.0   \n",
       "1848600  0.277778  0.049399  0.249687         0.05             0.0   \n",
       "1848601  0.333333  0.049423  0.115127         0.05             0.5   \n",
       "1848602  0.000000  0.024699  0.604941         0.00             0.0   \n",
       "1848604  0.055556  0.014820  0.444776         0.00             0.0   \n",
       "\n",
       "         OwnershipHistory  SellingDays  \n",
       "1848599               0.0     0.771326  \n",
       "1848600               0.4     0.634658  \n",
       "1848601               0.0     0.608307  \n",
       "1848602               0.5     0.530147  \n",
       "1848604               0.2     0.514962  "
      ]
     },
     "execution_count": 129,
     "metadata": {},
     "output_type": "execute_result"
    }
   ],
   "source": [
    "train_data2.head()"
   ]
  },
  {
   "cell_type": "code",
   "execution_count": 130,
   "metadata": {},
   "outputs": [
    {
     "data": {
      "text/plain": [
       "(9633, 7)"
      ]
     },
     "execution_count": 130,
     "metadata": {},
     "output_type": "execute_result"
    }
   ],
   "source": [
    "train_data2.shape"
   ]
  },
  {
   "cell_type": "code",
   "execution_count": null,
   "metadata": {},
   "outputs": [],
   "source": []
  },
  {
   "cell_type": "code",
   "execution_count": 156,
   "metadata": {},
   "outputs": [],
   "source": [
    "db2 = DBSCAN(eps=0.1,\n",
    "    min_samples=20,\n",
    "    metric='euclidean',\n",
    "    n_jobs=None)"
   ]
  },
  {
   "cell_type": "code",
   "execution_count": 157,
   "metadata": {},
   "outputs": [
    {
     "name": "stdout",
     "output_type": "stream",
     "text": [
      "Wall time: 788 ms\n"
     ]
    }
   ],
   "source": [
    "%%time\n",
    "y_db2 = db2.fit_predict(train_data2)"
   ]
  },
  {
   "cell_type": "code",
   "execution_count": 158,
   "metadata": {},
   "outputs": [
    {
     "data": {
      "text/plain": [
       "array([-1,  0,  1,  2,  3,  4,  5,  6,  7], dtype=int64)"
      ]
     },
     "execution_count": 158,
     "metadata": {},
     "output_type": "execute_result"
    }
   ],
   "source": [
    "np.unique(y_db2)"
   ]
  },
  {
   "cell_type": "code",
   "execution_count": 159,
   "metadata": {},
   "outputs": [],
   "source": [
    "y_cluster2 = y_db2[y_db2 >= 0]"
   ]
  },
  {
   "cell_type": "code",
   "execution_count": 160,
   "metadata": {},
   "outputs": [
    {
     "data": {
      "text/plain": [
       "array([4370, 1986,  317,  686,  237,  222,  109,   26], dtype=int64)"
      ]
     },
     "execution_count": 160,
     "metadata": {},
     "output_type": "execute_result"
    }
   ],
   "source": [
    "np.bincount(y_cluster2)"
   ]
  },
  {
   "cell_type": "code",
   "execution_count": null,
   "metadata": {},
   "outputs": [],
   "source": []
  },
  {
   "cell_type": "code",
   "execution_count": null,
   "metadata": {},
   "outputs": [],
   "source": []
  },
  {
   "cell_type": "code",
   "execution_count": null,
   "metadata": {},
   "outputs": [],
   "source": []
  }
 ],
 "metadata": {
  "kernelspec": {
   "display_name": "Python 3",
   "language": "python",
   "name": "python3"
  },
  "language_info": {
   "codemirror_mode": {
    "name": "ipython",
    "version": 3
   },
   "file_extension": ".py",
   "mimetype": "text/x-python",
   "name": "python",
   "nbconvert_exporter": "python",
   "pygments_lexer": "ipython3",
   "version": "3.7.5"
  }
 },
 "nbformat": 4,
 "nbformat_minor": 2
}
